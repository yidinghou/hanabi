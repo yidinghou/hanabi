{
 "cells": [
  {
   "cell_type": "markdown",
   "metadata": {},
   "source": [
    "## NN Structure\n",
    "\n",
    "output policy will have a dimension of the sum of discard choices, play choices, and clue choices. clue choices has a cardinality of product of num players, num colors, and num numbers. In this case it will be 4+4+3*3*1= 17 element array\n",
    "\n",
    "Input layer will have a dimension of the sum of opp_hand, board, discard, self_clue, and opp_clue.\n",
    "opp_hand will be dummy encoding of the number of cards in the deck. board is the number of playable cards. self_clue is product of num of cards_in_hand, num of colors, and num of value, so 4*3*3 = 36. Same with opp_clue\n",
    "\n",
    "Input layer = 15+9+15+36+36 = 111 node\n",
    "also add in num bombs, number of cards left, number of clues, 4, 15-4*2=7, 8\n",
    "\n",
    "total input layer = 111+4+7+8 = 130\n"
   ]
  },
  {
   "cell_type": "code",
   "execution_count": 1,
   "metadata": {
    "collapsed": true
   },
   "outputs": [],
   "source": [
    "import random\n",
    "import numpy as np\n",
    "from copy import deepcopy\n",
    "from Game import *"
   ]
  },
  {
   "cell_type": "code",
   "execution_count": 2,
   "metadata": {},
   "outputs": [
    {
     "name": "stderr",
     "output_type": "stream",
     "text": [
      "C:\\Users\\yidin\\AppData\\Local\\Continuum\\anaconda3\\lib\\site-packages\\h5py\\__init__.py:34: FutureWarning: Conversion of the second argument of issubdtype from `float` to `np.floating` is deprecated. In future, it will be treated as `np.float64 == np.dtype(float).type`.\n",
      "  from ._conv import register_converters as _register_converters\n",
      "Using TensorFlow backend.\n"
     ]
    }
   ],
   "source": [
    "from keras.utils import plot_model\n",
    "from keras.layers import Input, Dense\n",
    "from keras.models import Model\n",
    "\n",
    "# This returns a tensor\n",
    "inputs = Input(shape=(183,))\n",
    "\n",
    "# a layer instance is callable on a tensor, and returns a tensor\n",
    "x = Dense(90, activation='relu')(inputs)\n",
    "x = Dense(45, activation='relu')(x)\n",
    "predictions = Dense(14, activation='softmax')(x)\n",
    "value = Dense(1, activation='softmax')(x)\n",
    "# This creates a model that includes\n",
    "# the Input layer and three Dense layers\n",
    "model = Model(inputs=inputs, outputs=[predictions,value])\n",
    "model.compile(optimizer='rmsprop',\n",
    "              loss='categorical_crossentropy',\n",
    "              metrics=['accuracy'])\n",
    "# model.fit(data, labels)  # starts training\n",
    "plot_model(model, to_file='model.png',show_shapes = True)"
   ]
  },
  {
   "cell_type": "code",
   "execution_count": 31,
   "metadata": {
    "collapsed": true
   },
   "outputs": [],
   "source": [
    "def game_act(agent, opp, deck, board, num):\n",
    "    done = 0\n",
    "#     try:\n",
    "    if num < 4:\n",
    "        discard = agent.play_card(num)\n",
    "        board.discard(discard)\n",
    "        agent.draw(deck.deal(1))\n",
    "        board.add_clue()\n",
    "        print(\"Action \",agent.name,\" discarded: %s\"%(discard))\n",
    "    elif num < 8:\n",
    "        play= agent.play_card(num-4)\n",
    "        agent.draw(deck.deal(1))\n",
    "        board.play_card(play)\n",
    "        print(\"Action \",agent.name,\" played: %s\"%(play))\n",
    "    elif num< 14:\n",
    "        c = [1,2,3,\"R\",\"B\",\"Y\"]\n",
    "        info = c[num-8]\n",
    "        opp.receive_clue(info)\n",
    "        board.remove_clue()\n",
    "        print(\"Action \",agent.name,\" gave clue: %s to %s\"%(str(info),opp.name))\n",
    "#         board.turns +=1\n",
    "#     except:\n",
    "#         done = 1\n",
    "\n",
    "    if deck.count == 0:\n",
    "        done = 1\n",
    "        print(done)\n",
    "\n",
    "    return(done, deck, agent, [opp] ,board)"
   ]
  },
  {
   "cell_type": "code",
   "execution_count": null,
   "metadata": {
    "collapsed": true
   },
   "outputs": [],
   "source": []
  },
  {
   "cell_type": "code",
   "execution_count": 27,
   "metadata": {
    "collapsed": true
   },
   "outputs": [],
   "source": [
    "class GS():\n",
    "    def __init__(self, board, deck, curr, opps, turn):\n",
    "        self.board = board\n",
    "        self.curr = curr\n",
    "        self.opps = opps\n",
    "        self.turn = turn\n",
    "        self.deck = deck\n",
    "        self.id = str(curr.nn_input(opps[0], board))\n",
    "        print(self.board.score)\n",
    "        \n",
    "    def takeAction(self, action):\n",
    "        done, deck, curr, opps, board = game_act(self.curr.copy(), self.opps[0].copy(), \n",
    "                                                  self.deck.copy(), self.board.copy(), action)\n",
    "        print(\"Deck\", [str(c) for c in deck.cards])\n",
    "        newState = GS(board, deck, opps[0], [curr], self.turn+1)\n",
    "        return(newState, board.score, done)\n",
    "    \n",
    "    def _print(self):\n",
    "        print(\"\")\n",
    "\n",
    "class Node():\n",
    "    def __init__(self, state):\n",
    "        self.state = state\n",
    "        self.id = state.id\n",
    "        self.edges = []\n",
    "    \n",
    "    def isLeaf(self):\n",
    "        if len(self.edges) > 0:\n",
    "            return False\n",
    "        else:\n",
    "            return True        \n",
    "class Edge():\n",
    "\n",
    "    def __init__(self, inNode, outNode, prior, action):\n",
    "        self.id = inNode.state.id + '|' + outNode.state.id\n",
    "        self.inNode = inNode\n",
    "        self.outNode = outNode\n",
    "        self.action = action\n",
    "        \n",
    "        self.stats =  {\n",
    "            'N': 0,\n",
    "            'W': 0,\n",
    "            'Q': 0,\n",
    "            'P': prior,}\n",
    "        \n",
    "class MCTS():\n",
    "    def __init__(self, root, cpuct):\n",
    "        self.root = root\n",
    "        self.tree = {}\n",
    "        self.cpuct = cpuct\n",
    "        self.addNode(root)\n",
    "        \n",
    "    def __len__(self):\n",
    "        return len(self.tree)\n",
    "\n",
    "\n",
    "    def moveToLeaf(self):\n",
    "        breadcrumbs = []\n",
    "        currentNode = self.root\n",
    "\n",
    "        done = 0\n",
    "        value = 0\n",
    "        \n",
    "        while (not currentNode.isLeaf()) and (not done ==1):\n",
    "            maxQU = -99999\n",
    "            if currentNode == self.root:\n",
    "                epsilon = 0.2\n",
    "                nu = np.random.dirichlet([0.8] * len(currentNode.edges))\n",
    "            else:\n",
    "                epsilon = 0\n",
    "                nu = [0] * len(currentNode.edges)\n",
    "                \n",
    "            Nb = 0\n",
    "            for action, edge in currentNode.edges:\n",
    "                Nb = Nb + edge.stats['N']\n",
    "\n",
    "            for idx, (action, edge) in enumerate(currentNode.edges):\n",
    "                U = self.cpuct * \\\n",
    "                    ((1-epsilon) * edge.stats['P'] + epsilon * nu[idx] )  * \\\n",
    "                    np.sqrt(Nb) / (1 + edge.stats['N'])\n",
    "                \n",
    "                Q = edge.stats['Q']\n",
    "\n",
    "                if Q + U > maxQU:\n",
    "                    maxQU = Q + U\n",
    "                    simulationAction = action\n",
    "                    simulationEdge = edge\n",
    "\n",
    "    \n",
    "            newState, value, done = currentNode.state.takeAction(simulationAction) #the value of the newState from the POV of the new playerTurn\n",
    "            currentNode = simulationEdge.outNode\n",
    "            breadcrumbs.append(simulationEdge)\n",
    "            print(newState.id,\"TURN  \",newState.turn)\n",
    "        return currentNode, value, done, breadcrumbs\n",
    "\n",
    "\n",
    "\n",
    "    def backFill(self, leaf, value, breadcrumbs):\n",
    "        for edge in breadcrumbs:\n",
    "            edge.stats['N'] = edge.stats['N'] + 1\n",
    "            edge.stats['W'] = edge.stats['W'] + value\n",
    "            edge.stats['Q'] = edge.stats['W'] / edge.stats['N']\n",
    "            \n",
    "    def addNode(self, node):\n",
    "        self.tree[node.id] = node"
   ]
  },
  {
   "cell_type": "code",
   "execution_count": 28,
   "metadata": {},
   "outputs": [
    {
     "name": "stdout",
     "output_type": "stream",
     "text": [
      "ASdf\n"
     ]
    }
   ],
   "source": [
    "print(\"ASdf\")\n",
    "class Player():\n",
    "    def __init__(self, name, deck, model):\n",
    "        self.deck = deck\n",
    "        self.name = name\n",
    "        self.hand = []\n",
    "        self.hand_binary = [0] * len(self.deck.cards)\n",
    "        self.private_clues = [clue(self.deck.cards), clue(self.deck.cards), clue(self.deck.cards), clue(self.deck.cards)]\n",
    "        self.public_clues = [clue(self.deck.cards), clue(self.deck.cards), clue(self.deck.cards), clue(self.deck.cards)]\n",
    "        self.seen = []\n",
    "        self.seenplayer_binary = [0] * len(self.deck.cards)\n",
    "        self.played = []\n",
    "        self.seenboard_binary = [0] * len(self.deck.cards) \n",
    "        \n",
    "        self.cpuct = 0.8\n",
    "        self.MCTSsimulations = 50\n",
    "        self.model = model\n",
    "        self.mcts = None\n",
    "        \n",
    "        self.train_overall_loss = []\n",
    "        self.train_value_loss = []\n",
    "        self.train_policy_loss = []\n",
    "        self.val_overall_loss = []\n",
    "        self.val_value_loss = []\n",
    "        self.val_policy_loss = []\n",
    "    \n",
    "    def copy(self):\n",
    "        c = Player(self.name, self.deck.copy(), self.model)\n",
    "        c.hand = self.hand.copy()\n",
    "        c.hand_binary = self.hand_binary.copy()\n",
    "        c.private_clues = self.private_clues.copy()\n",
    "        c.public_clues = self.public_clues.copy()\n",
    "        c.seen = self.seen.copy()\n",
    "        c.seenplayer_binary = self.seenplayer_binary.copy()\n",
    "        c.played = self.played.copy()\n",
    "        c.seenboard_binary = self.seenboard_binary.copy()\n",
    "\n",
    "        c.model = self.model\n",
    "        c.mtcs = self.mcts\n",
    "\n",
    "        return(c)\n",
    "    \n",
    "    def print_hand(self):\n",
    "        print(self.name, [str(c.value) + c.color for c in self.hand])\n",
    "\n",
    "    def draw(self, cards):\n",
    "        self.hand += cards\n",
    "        self.hand_binary = to_bin(self.hand, self.deck.cards)\n",
    "\n",
    "    def play_card(self, pos):\n",
    "        played = self.hand[pos]\n",
    "        del self.hand[pos]\n",
    "        return played\n",
    "\n",
    "    def discard_card(self, pos):\n",
    "        played = self.hand[pos]\n",
    "        del self.hand[pos]\n",
    "        return played\n",
    "\n",
    "    def see_players(self, players=[]):\n",
    "        for p in players:\n",
    "            self.seen += p.hand\n",
    "\n",
    "        self.seen = list(set(self.seen))\n",
    "        self.seenplayer_binary = to_bin(self.seen, self.deck.cards)\n",
    "        print(\"%s has seen:\" % (self.name), [x.__str__() for x in self.seen])\n",
    "\n",
    "        for c in self.private_clues:\n",
    "            add_clue = to_bin(self.seen, self.deck.cards)\n",
    "            add_clue = [-x for x in add_clue]\n",
    "            c.clues = [min(c.clues[j], add_clue[j]) for j in range(0, len(c.clues))]\n",
    "\n",
    "    def see_board(self, board):\n",
    "        self.played += board.playable\n",
    "        self.played = list(set(self.played))\n",
    "        self.seenboard_binary = to_bin(self.played, self.deck.cards)\n",
    "        print(\"%s has seen played:\" % (self.name), [x.__str__() for x in self.seen])\n",
    "\n",
    "        for i in range(0, 4):\n",
    "            self.public_clues[i].clues = [-1 if x in self.played else 0 for x in self.deck.cards]\n",
    "            self.private_clues[i].clues = [-1 if x in self.played else 0 for x in self.deck.cards]\n",
    "\n",
    "    def receive_clue(self, clue):\n",
    "        i = 0\n",
    "\n",
    "        if type(clue) == str:\n",
    "            valid = [c for c in self.hand if c.color == clue]\n",
    "            if not valid == []:\n",
    "                for card in self.hand:\n",
    "                    c = self.public_clues[i]\n",
    "                    if card.color != clue:\n",
    "                        add_clue = [-1 if x.color == clue else 0 for x in self.deck.cards]\n",
    "                    else:\n",
    "                        add_clue = [-1 if x.color != clue else 0 for x in self.deck.cards]\n",
    "\n",
    "                    c.clues = [min(c.clues[j], add_clue[j]) for j in range(0, len(c.clues))]\n",
    "                    priv = self.private_clues[i]\n",
    "                    priv.clues = [min(c.clues[j], priv.clues[j]) for j in range(0, len(c.clues))]\n",
    "                    i += 1\n",
    "\n",
    "        if type(clue) == int:\n",
    "            valid = [c for c in self.hand if c.value == clue]\n",
    "            if not valid == []:\n",
    "                for card in self.hand:\n",
    "                    c = self.public_clues[i]\n",
    "                    if card.value != clue:\n",
    "                        add_clue = [-1 if x.value == clue else 0 for x in self.deck.cards]\n",
    "                    else:\n",
    "                        add_clue = [-1 if x.value != clue else 0 for x in self.deck.cards]\n",
    "\n",
    "                    c.clues = [min(c.clues[j], add_clue[j]) for j in range(0, len(c.clues))]\n",
    "                    priv = self.private_clues[i]\n",
    "                    priv.clues = [min(c.clues[j], priv.clues[j]) for j in range(0, len(c.clues))]\n",
    "                    i += 1\n",
    "\n",
    "    def nn_input(self, opp, board):\n",
    "        self_clues = []\n",
    "        for c in self.private_clues:\n",
    "            self_clues += c.clues\n",
    "\n",
    "        opp_clues = []\n",
    "        for c in opp.public_clues:\n",
    "            opp_clues += c.clues\n",
    "\n",
    "        inputs = self.seenplayer_binary + \\\n",
    "                 self.seenboard_binary + \\\n",
    "                 board.discard_bin + \\\n",
    "                 board.playable_bin + \\\n",
    "                self_clues + \\\n",
    "                 opp_clues + \\\n",
    "                 [board.bombs, board.clues, board.score]\n",
    "                    \n",
    "        return (inputs)\n",
    "    \n",
    "    def simulate(self):\n",
    "        ##### MOVE THE LEAF NODE\n",
    "        leaf, value, done, breadcrumbs = self.mcts.moveToLeaf()\n",
    "        \n",
    "        ##### EVALUATE THE LEAF NODE\n",
    "        value, breadcrumbs = self.evaluateLeaf(leaf, value, done, breadcrumbs)\n",
    "        \n",
    "        ##### BACKFILL THE VALUE THROUGH THE TREE\n",
    "        self.mcts.backFill(leaf, value, breadcrumbs)\n",
    "\n",
    "\n",
    "    def act(self, state, tau):\n",
    "        if self.mcts == None or state.id not in self.mcts.tree:\n",
    "            self.buildMCTS(state)\n",
    "        else:\n",
    "            self.changeRootMCTS(state)\n",
    "\n",
    "        #### run the simulation\n",
    "        for sim in range(self.MCTSsimulations):\n",
    "            self.simulate()\n",
    "\n",
    "        #### get action values\n",
    "        pi, values = self.getAV(1)\n",
    "\n",
    "        ####pick the action\n",
    "        action, value = self.chooseAction(pi, values, tau)\n",
    "        \n",
    "        nextState, _, _ = state.takeAction(action)\n",
    "        \n",
    "        NN_value = self.get_preds(nextState)[0]\n",
    "        \n",
    "        return (action, pi, value, NN_value)\n",
    "\n",
    "\n",
    "    def get_preds(self, state):\n",
    "        #predict the leaf\n",
    "        curr = state.curr\n",
    "        opps = state.opps\n",
    "        board = state.board\n",
    "        \n",
    "        nn_input = curr.nn_input(opps[0],board)\n",
    "        probs, value = self.model.predict(np.array([nn_input]))\n",
    "        \n",
    "        \n",
    "        return ((probs, value))\n",
    "\n",
    "\n",
    "    def evaluateLeaf(self, leaf, value, done, breadcrumbs):\n",
    "        if done == 0:\n",
    "            probs, value = self.get_preds(leaf.state)\n",
    "            for action in range(0,14):\n",
    "                newState, _, _ = leaf.state.takeAction(action)\n",
    "                if newState.id not in self.mcts.tree:\n",
    "                    node = Node(newState)\n",
    "                    self.mcts.addNode(node)\n",
    "                else:\n",
    "                    node = self.mcts.tree[newState.id]\n",
    "\n",
    "                newEdge = Edge(leaf, node, probs[0][action], action)\n",
    "                leaf.edges.append((action, newEdge))\n",
    "\n",
    "        return ((value, breadcrumbs))\n",
    "\n",
    "\n",
    "    def getAV(self, tau):\n",
    "        edges = self.mcts.root.edges\n",
    "        pi = np.zeros(14, dtype=np.integer)\n",
    "        values = np.zeros(14, dtype=np.float32)\n",
    "        \n",
    "        for action, edge in edges:\n",
    "            print(edge.stats)\n",
    "            pi[action] = pow(edge.stats['N'], 1/tau)\n",
    "            values[action] = edge.stats['Q']\n",
    "\n",
    "        pi = pi / (np.sum(pi) * 1.0)\n",
    "        return pi, values\n",
    "\n",
    "    def chooseAction(self, pi, values, tau):\n",
    "        if tau == 0:\n",
    "            actions = np.argwhere(pi == max(pi))\n",
    "            action = random.choice(actions)[0]\n",
    "        else:\n",
    "            action_idx = np.random.multinomial(1, pi)\n",
    "            action = np.where(action_idx==1)[0][0]\n",
    "            \n",
    "        value = values[action]\n",
    "\n",
    "        return action, value\n",
    "\n",
    "\n",
    "    def buildMCTS(self, state):\n",
    "        self.root = Node(state)\n",
    "        self.mcts = MCTS(self.root, self.cpuct)\n",
    "\n",
    "    def changeRootMCTS(self, state):\n",
    "        self.mcts.root = self.mcts.tree[state.id]"
   ]
  },
  {
   "cell_type": "code",
   "execution_count": 32,
   "metadata": {},
   "outputs": [
    {
     "name": "stdout",
     "output_type": "stream",
     "text": [
      "P1 has seen: ['2B', '2Y', '1B', '3R']\n",
      "P1 has seen played: ['2B', '2Y', '1B', '3R']\n",
      "0\n"
     ]
    }
   ],
   "source": [
    "cards = [Card(value, color) for color in [\"R\",\"B\",\"Y\"] for value in [1,1,2,2,3]]\n",
    "deck = Deck(cards = cards)\n",
    "p1 = Player(\"P1\", deck.copy(), model)\n",
    "p2 = Player(\"P2\", deck.copy(), model)\n",
    "board = Board([\"R\",\"B\",\"Y\"], deck.copy())\n",
    "deck.shuffle()\n",
    "p1.draw(deck.deal(4))\n",
    "p2.draw(deck.deal(4))\n",
    "\n",
    "\n",
    "\n",
    "players = [p1, p2]\n",
    "turn = 0\n",
    "curr = players[(turn)%2]\n",
    "opp = players[(turn+1)%2]\n",
    "curr.see_players([opp])\n",
    "curr.see_board(board)\n",
    "        \n",
    "\n",
    "currGS = GS(board, deck, curr, [opp], turn)"
   ]
  },
  {
   "cell_type": "code",
   "execution_count": 36,
   "metadata": {
    "scrolled": true
   },
   "outputs": [
    {
     "ename": "IndentationError",
     "evalue": "unexpected indent (<ipython-input-36-a7c484a55364>, line 3)",
     "output_type": "error",
     "traceback": [
      "\u001b[1;36m  File \u001b[1;32m\"<ipython-input-36-a7c484a55364>\"\u001b[1;36m, line \u001b[1;32m3\u001b[0m\n\u001b[1;33m    p1.simulate()\u001b[0m\n\u001b[1;37m    ^\u001b[0m\n\u001b[1;31mIndentationError\u001b[0m\u001b[1;31m:\u001b[0m unexpected indent\n"
     ]
    }
   ],
   "source": [
    "p1.buildMCTS(currGS)\n",
    "# for i in range(0,10):\n",
    "    p1.simulate()"
   ]
  },
  {
   "cell_type": "code",
   "execution_count": 26,
   "metadata": {},
   "outputs": [
    {
     "data": {
      "text/plain": [
       "47"
      ]
     },
     "execution_count": 26,
     "metadata": {},
     "output_type": "execute_result"
    }
   ],
   "source": [
    "M  = p1.mcts\n",
    "len(M.tree.keys())"
   ]
  },
  {
   "cell_type": "code",
   "execution_count": null,
   "metadata": {},
   "outputs": [],
   "source": [
    "board.discard_bin"
   ]
  },
  {
   "cell_type": "code",
   "execution_count": null,
   "metadata": {
    "collapsed": true
   },
   "outputs": [],
   "source": [
    "def convert_nn_input(nn_input, cards):\n",
    "    l = len(cards)\n",
    "    curr_seenplayer = nn_input[0:l]\n",
    "    curr_seenboard = nn_input[l:(2*l)]\n",
    "    board_discard = nn_input[(2*l):(3*l)]\n",
    "    board_playabale = nn_input[(3*l):(4*l)]\n",
    "    self_clues = nn_input[(4*l):(8*l)]\n",
    "    opp_clues = nn_input[(8*l):(12*l)]\n",
    "    board_bombs = nn_input[12*l+1]\n",
    "    board_clues = nn_input[12*l+2]\n",
    "    board_score = nn_input[12*l+3]\n",
    "    \n",
    "    print([cards[i] for i in board_playable])\n",
    "    \n",
    "    \n",
    "    \n",
    "    \n",
    "        \n",
    "    \n",
    "    "
   ]
  },
  {
   "cell_type": "code",
   "execution_count": null,
   "metadata": {},
   "outputs": [],
   "source": [
    "list(M.tree.keys())[12]"
   ]
  },
  {
   "cell_type": "code",
   "execution_count": null,
   "metadata": {
    "collapsed": true
   },
   "outputs": [],
   "source": [
    "convert"
   ]
  },
  {
   "cell_type": "code",
   "execution_count": null,
   "metadata": {
    "collapsed": true,
    "scrolled": true
   },
   "outputs": [],
   "source": [
    "cards = [Card(value, color) for color in [\"R\",\"B\",\"Y\"] for value in [1,1,2,2,3]]\n",
    "p1 = Player(\"P1\", cards, model)\n",
    "p2 = Player(\"P2\", cards, model)\n",
    "board = Board([\"R\",\"B\",\"Y\"], cards)\n",
    "\n",
    "\n",
    "deck = Deck(cards = cards)\n",
    "deck.shuffle()\n",
    "p1.draw(deck.deal(4))\n",
    "p2.draw(deck.deal(4))\n",
    "\n",
    "p3 = p1.copy()\n",
    "p1.print_hand()\n",
    "done = False\n",
    "players = [p1, p2]\n",
    "turn = 0\n",
    "while not done:\n",
    "    curr = players[(turn)%2]\n",
    "    opp = players[(turn+1)%2]\n",
    "    curr.see_players([opp])\n",
    "    curr.see_board(board)\n",
    "\n",
    "    nn_input = curr.nn_input(opp,board)\n",
    "    probs, _ = model.predict(np.array([nn_input]))\n",
    "    choice = np.random.choice(range(0,14), p=probs[0])\n",
    "    done = game_act(curr, opp, deck, board, choice)\n",
    "    print(done)\n",
    "    turn +=1\n",
    "print(board.score)"
   ]
  },
  {
   "cell_type": "code",
   "execution_count": null,
   "metadata": {
    "collapsed": true
   },
   "outputs": [],
   "source": [
    "p1.print_hand()\n",
    "p3.print_hand()\n"
   ]
  },
  {
   "cell_type": "code",
   "execution_count": null,
   "metadata": {
    "collapsed": true
   },
   "outputs": [],
   "source": [
    "p1.play_card(1)"
   ]
  },
  {
   "cell_type": "code",
   "execution_count": 37,
   "metadata": {
    "collapsed": true
   },
   "outputs": [],
   "source": [
    "class X():\n",
    "    \n",
    "    def __init__(self, x , y):\n",
    "        self.x = x\n",
    "        self.y = y\n",
    "    \n",
    "    def update(self, num):\n",
    "        self.x = num\n",
    "    def copy(self):\n",
    "        c = X(self.x, self.y)\n",
    "        return(c)\n",
    "    \n",
    "class Y():\n",
    "    def __init__(self, Z):\n",
    "        self.Z = Z\n"
   ]
  },
  {
   "cell_type": "code",
   "execution_count": 38,
   "metadata": {
    "collapsed": true
   },
   "outputs": [],
   "source": [
    "a =X(1,2)\n",
    "b = Y(a)"
   ]
  },
  {
   "cell_type": "code",
   "execution_count": 40,
   "metadata": {},
   "outputs": [],
   "source": [
    "b.Z.update(10)"
   ]
  },
  {
   "cell_type": "code",
   "execution_count": 43,
   "metadata": {},
   "outputs": [
    {
     "data": {
      "text/plain": [
       "10"
      ]
     },
     "execution_count": 43,
     "metadata": {},
     "output_type": "execute_result"
    }
   ],
   "source": [
    "a.x"
   ]
  }
 ],
 "metadata": {
  "kernelspec": {
   "display_name": "Python 3",
   "language": "python",
   "name": "python3"
  },
  "language_info": {
   "codemirror_mode": {
    "name": "ipython",
    "version": 3
   },
   "file_extension": ".py",
   "mimetype": "text/x-python",
   "name": "python",
   "nbconvert_exporter": "python",
   "pygments_lexer": "ipython3",
   "version": "3.6.3"
  }
 },
 "nbformat": 4,
 "nbformat_minor": 2
}
