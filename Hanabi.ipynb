{
 "cells": [
  {
   "cell_type": "code",
   "execution_count": 3,
   "metadata": {
    "collapsed": true
   },
   "outputs": [],
   "source": [
    "import random"
   ]
  },
  {
   "cell_type": "markdown",
   "metadata": {},
   "source": [
    "## NN Structure\n",
    "\n",
    "output policy will have a dimension of the sum of discard choices, play choices, and clue choices. clue choices has a cardinality of product of num players, num colors, and num numbers. In this case it will be 4+4+3*3*1= 17 element array\n",
    "\n",
    "Input layer will have a dimension of the sum of opp_hand, board, discard, self_clue, and opp_clue.\n",
    "opp_hand will be dummy encoding of the number of cards in the deck. board is the number of playable cards. self_clue is product of num of cards_in_hand, num of colors, and num of value, so 4*3*3 = 36. Same with opp_clue\n",
    "\n",
    "Input layer = 15+9+15+36+36 = 111 node\n",
    "also add in num bombs, number of cards left, number of clues, 4, 15-4*2=7, 8\n",
    "\n",
    "total input layer = 111+4+7+8 = 130\n"
   ]
  },
  {
   "cell_type": "code",
   "execution_count": 4,
   "metadata": {
    "collapsed": true
   },
   "outputs": [],
   "source": [
    "class Card:\n",
    "    def __init__(self, value, color):\n",
    "        self.value = value\n",
    "        self.color = color\n",
    "        \n",
    "    def __str__(self):\n",
    "        return(str(self.value)+self.color)\n",
    "\n",
    "class Deck:\n",
    "    def __init__(self, cards):\n",
    "        self.cards = cards\n",
    "        \n",
    "    def __str__(self):\n",
    "        return(str([str(c) for c in self.cards]))\n",
    "        \n",
    "    def count(self):\n",
    "        return len(self.cards)\n",
    "    \n",
    "    def shuffle(self):\n",
    "        random.shuffle(cards)\n",
    "    \n",
    "    def deal(self,n):\n",
    "        if self.count()>=n:\n",
    "            dealt = self.cards[0:n]\n",
    "            self.cards = self.cards[n:]\n",
    "            return (dealt)\n",
    "    \n",
    "      "
   ]
  },
  {
   "cell_type": "code",
   "execution_count": 73,
   "metadata": {},
   "outputs": [],
   "source": [
    "class info:\n",
    "    def __init__(self):\n",
    "        self.value = 0\n",
    "        self.not_value = []\n",
    "        self.color = \"NA\"\n",
    "        self.not_color = []\n",
    "        self.playable_prob = 0\n",
    "        self.discardable_prob = 0\n",
    "    \n",
    "#     def __str__(self):\n",
    "#         return()\n",
    "\n",
    "class Player:       \n",
    "    def __init__(self, name, deck):\n",
    "        self.name = name\n",
    "        self.hand = []\n",
    "        self.info = [info(), info(), info(), info()]\n",
    "        self.seen = []\n",
    "        self.remaining = deck.cards.copy()\n",
    "        \n",
    "    def __str__(self):\n",
    "        return(str([str(c) for c in self.hand]))\n",
    "    \n",
    "    def play_card(self, pos):\n",
    "        played = self.hand[pos]\n",
    "        print(\"%s:\"%self.name,self,\" played card num %d: %s\"%(pos,played))\n",
    "        del self.hand[pos]\n",
    "        return played\n",
    "        \n",
    "    def draw(self, cards):\n",
    "        for c in cards:\n",
    "            self.hand.append(c)\n",
    "    \n",
    "    def see(self, playable, discardable, players = [], played = []):\n",
    "        for p in players:\n",
    "            self.seen += p.hand\n",
    "        self.seen+=played\n",
    "        self.seen = list(set(self.seen))\n",
    "        self.remaining = [x for x in self.remaining if x not in self.seen]            \n",
    "        print(\"%s has seen:\"%(self.name),[x.__str__() for x in self.seen])\n",
    "        \n",
    "        for i in self.info:\n",
    "            possible = self.remaining.copy()\n",
    "            playable = playable.copy()\n",
    "            discardable = discardable.copy()\n",
    "            if i.value>0:\n",
    "                possible = [x for x in possible if x.value==i.value]\n",
    "            if i.color!=\"NA\":\n",
    "                possible = [x for x in possible if x.color==i.color]\n",
    "            \n",
    "            d = [x for x in possible if x.__str__() in [di.__str__() for di in discardable]]\n",
    "            p = [x for x in possible if x in playable]\n",
    "            \n",
    "            i.playable_prob = len(p)/len(possible)\n",
    "            i.discardable_prob = len(d)/len(possible)\n",
    "\n",
    "#             print(\"playable\",[x.__str__() for x in p],len(p))\n",
    "#             print(\"discard\",[x.__str__() for x in d],len(d))\n",
    "#             print(\"possible\",[x.__str__() for x in possible], len(possible))\n",
    "    \n",
    "    def receive_clue(self,other,clue):\n",
    "        if type(clue)==str:\n",
    "            idx = [i for i, x in enumerate(self.hand) if x.color == clue]\n",
    "            if not idx == []:\n",
    "                for i in range(0,4):\n",
    "                    if i in idx:\n",
    "                        self.info[i].color=clue\n",
    "                    else:\n",
    "                        self.info[i].not_color.append(clue)\n",
    "                        \n",
    "        if type(clue)==int:\n",
    "            idx = [i for i, x in enumerate(self.hand) if x.value == clue]\n",
    "            if not idx == []:\n",
    "                for i in range(0,4):\n",
    "                    if i in idx:\n",
    "                        self.info[i].value=clue\n",
    "                    else:\n",
    "                        self.info[i].not_value.append(clue)\n",
    "                        \n",
    "        print(\"%s gave clue: %s to %s\"%(other.name,str(clue),self.name))"
   ]
  },
  {
   "cell_type": "code",
   "execution_count": 74,
   "metadata": {
    "collapsed": true
   },
   "outputs": [],
   "source": [
    "class Board:\n",
    "    def __init__(self, colors, cards):\n",
    "        d = dict.fromkeys(colors)\n",
    "        d = dict.fromkeys(d, [0])\n",
    "        self.slots = d\n",
    "        self.deck = cards.copy()\n",
    "        self.bombs = 0\n",
    "        self.clues = 8\n",
    "        self.score = 0\n",
    "        self.played = []\n",
    "        self.playable = [x for x in self.deck if x.value==1]\n",
    "        self.discardable = []\n",
    "        \n",
    "    def play_card(self, card):\n",
    "        self.played.append(card)\n",
    "        slot = self.slots[card.color]\n",
    "        last = slot[-1]\n",
    "        if card.value == last+1:\n",
    "            self.slots[card.color] = slot +[card.value]\n",
    "            self.score +=1\n",
    "            print(card, \" was played correctly\")\n",
    "            self.discardable.append(card)\n",
    "            self.playable = [x for x in self.playable if(x.value!=card.value) or (x.color!=card.color)]\n",
    "            self.playable+=[x for x in self.deck if (x.value==(card.value+1)) and (x.color==card.color)]\n",
    "        else:\n",
    "            self.bombs += 1\n",
    "            print(card, \" was NOT played correctly\")\n",
    "        \n",
    "        self.played += [card]\n",
    "\n",
    "    "
   ]
  },
  {
   "cell_type": "code",
   "execution_count": 75,
   "metadata": {},
   "outputs": [
    {
     "data": {
      "text/plain": [
       "[0, 1, 0, 0, 1, 0, 0, 0, 0, 0, 1, 0, 0, 0, 1]"
      ]
     },
     "execution_count": 75,
     "metadata": {},
     "output_type": "execute_result"
    }
   ],
   "source": [
    "cards = [Card(value, color) for color in [\"R\",\"B\",\"Y\"] for value in [1,1,2,2,3]]\n",
    "deck = Deck(cards = cards)\n",
    "board = Board([\"R\",\"B\",\"Y\"], cards)\n",
    "p1 = Player(\"P1\", cards)\n",
    "p2 = Player(\"P2\", cards)\n",
    "\n",
    "deck.shuffle()\n",
    "p1.draw(deck.deal(4))\n",
    "p1.hand"
   ]
  },
  {
   "cell_type": "code",
   "execution_count": 76,
   "metadata": {},
   "outputs": [
    {
     "name": "stdout",
     "output_type": "stream",
     "text": [
      "['1R', '3R', '1Y', '3Y']\n"
     ]
    }
   ],
   "source": [
    "p1._print()"
   ]
  },
  {
   "cell_type": "code",
   "execution_count": 56,
   "metadata": {},
   "outputs": [
    {
     "data": {
      "text/plain": [
       "0"
      ]
     },
     "execution_count": 56,
     "metadata": {},
     "output_type": "execute_result"
    }
   ],
   "source": [
    "a = [1,2,3,1]\n",
    "b = [5,3,4,1,2]\n",
    "\n",
    "a.index(1)"
   ]
  },
  {
   "cell_type": "code",
   "execution_count": 37,
   "metadata": {},
   "outputs": [
    {
     "name": "stdout",
     "output_type": "stream",
     "text": [
      "P2 gave clue: 1 to P1\n"
     ]
    }
   ],
   "source": [
    "p1.receive_clue(p2,1)"
   ]
  },
  {
   "cell_type": "code",
   "execution_count": 38,
   "metadata": {},
   "outputs": [
    {
     "name": "stdout",
     "output_type": "stream",
     "text": [
      "1 [] NA []\n",
      "0 [1] NA []\n",
      "1 [] NA []\n",
      "1 [] NA []\n"
     ]
    }
   ],
   "source": [
    "for i in p1.info:\n",
    "    print(i.value, i.not_value, i.color, i.not_color)"
   ]
  },
  {
   "cell_type": "code",
   "execution_count": 480,
   "metadata": {
    "scrolled": false
   },
   "outputs": [
    {
     "name": "stdout",
     "output_type": "stream",
     "text": [
      "turn 0\n",
      "['2Y', '1Y', '1R', '3Y'] ['2B', '1B', '3B', '3R']\n",
      "P1 has seen: ['3B', '3R', '2B', '1B']\n",
      "P1: ['2Y', '1Y', '1R', '3Y']  played card num 1: 1Y\n",
      "1Y  was played correctly\n",
      "['1R', '1B', '1R', '1B', '2Y', '2Y']\n",
      "turn 1\n",
      "['2Y', '1R', '3Y', '2R'] ['2B', '1B', '3B', '3R']\n",
      "P2 has seen: ['2Y', '3Y', '1Y', '1R', '2R']\n",
      "P2: ['2B', '1B', '3B', '3R']  played card num 1: 1B\n",
      "1B  was played correctly\n",
      "['1R', '1R', '2Y', '2Y', '2B', '2B']\n",
      "turn 2\n",
      "['2Y', '1R', '3Y', '2R'] ['2B', '3B', '3R', '1R']\n",
      "P1 has seen: ['1Y', '1B', '1R', '3R', '2B', '3B']\n",
      "P1: ['2Y', '1R', '3Y', '2R']  played card num 0: 2Y\n",
      "2Y  was played correctly\n",
      "['1R', '1R', '2B', '2B', '3Y']\n",
      "turn 3\n",
      "['1R', '3Y', '2R', '2B'] ['2B', '3B', '3R', '1R']\n",
      "P2 has seen: ['2Y', '3Y', '1Y', '1B', '2B', '1R', '2R']\n",
      "P2: ['2B', '3B', '3R', '1R']  played card num 1: 3B\n",
      "3B  was NOT played correctly\n",
      "['1R', '1R', '2B', '2B', '3Y']\n",
      "turn 4\n",
      "['1R', '3Y', '2R', '2B'] ['2B', '3R', '1R', '1Y']\n",
      "P1 has seen: ['2Y', '1Y', '1B', '1R', '3R', '2B', '3B', '1Y']\n",
      "P1: ['1R', '3Y', '2R', '2B']  played card num 2: 2R\n",
      "2R  was NOT played correctly\n",
      "['1R', '1R', '2B', '2B', '3Y']\n",
      "turn 5\n",
      "['1R', '3Y', '2B', '1B'] ['2B', '3R', '1R', '1Y']\n",
      "P2 has seen: ['2Y', '3Y', '1Y', '1B', '2B', '1B', '3B', '1R', '2R']\n",
      "P2: ['2B', '3R', '1R', '1Y']  played card num 2: 1R\n",
      "1R  was played correctly\n",
      "['2B', '2B', '3Y', '2R', '2R']\n",
      "turn 6\n",
      "['1R', '3Y', '2B', '1B'] ['2B', '3R', '1Y', '2R']\n",
      "P1 has seen: ['2Y', '1Y', '1B', '1R', '3R', '2B', '3B', '1Y', '2R', '2R']\n",
      "P1: ['1R', '3Y', '2B', '1B']  played card num 1: 3Y\n",
      "3Y  was played correctly\n",
      "['2B', '2B', '2R', '2R']\n",
      "turn 8\n",
      "P1 has seen: ['2Y', '3Y', '1Y', '1B', '1R', '3R', '2B', '3B', '1Y', '2R', '2R']\n",
      "P1: ['1R', '2B', '1B', '2Y']  played card num 0: 1R\n",
      "1R  was NOT played correctly\n",
      "turn 9\n",
      "P2 has seen: ['2Y', '3Y', '1Y', '1B', '1R', '2B', '1B', '3B', '1R', '2R', '2Y']\n",
      "P2: ['2B', '3R', '1Y', '2R']  played card num 1: 3R\n",
      "3R  was NOT played correctly\n",
      "{'R': [0, 1], 'B': [0, 1], 'Y': [0, 1, 2, 3]}\n"
     ]
    }
   ],
   "source": [
    "players = [p1,p2]\n",
    "turn_num = 0\n",
    "while deck.count()>0:\n",
    "    turn = turn_num%2\n",
    "    print(\"turn %d\"%turn_num)\n",
    "    print(p1,p2)\n",
    "    turn_num+=1\n",
    "    curr_player = players[turn]\n",
    "    other_players = [x for x in players if x != curr_player]\n",
    "    curr_player.see(board.playable, board.discardable, players = other_players, played = board.played)\n",
    "    r = random.randint(0,3)\n",
    "    played = curr_player.play_card(r)\n",
    "    curr_player.draw(deck.deal(1))\n",
    "    board.play_card(played)\n",
    "    print([x.__str__() for x in board.playable])\n",
    "\n",
    "#last round\n",
    "for turn in range(0,2):\n",
    "    turn_num+=1\n",
    "    print(\"turn %d\"%turn_num)\n",
    "    curr_player = players[turn]\n",
    "    other_players = [x for x in players if x != curr_player]\n",
    "    curr_player.see(board.playable, board.discardable, players = other_players, played = board.played)\n",
    "    r = random.randint(0,3)\n",
    "    played = curr_player.play_card(r)\n",
    "    board.play_card(played)\n",
    "print(board.slots)"
   ]
  },
  {
   "cell_type": "code",
   "execution_count": 349,
   "metadata": {},
   "outputs": [
    {
     "data": {
      "text/plain": [
       "[<__main__.Card at 0x20e0e1bb828>,\n",
       " <__main__.Card at 0x20e0e1bb588>,\n",
       " <__main__.Card at 0x20e0e1bbb00>,\n",
       " <__main__.Card at 0x20e0e1bbbe0>,\n",
       " <__main__.Card at 0x20e0e1bbc18>,\n",
       " <__main__.Card at 0x20e0e1bb2e8>,\n",
       " <__main__.Card at 0x20e0e1bbda0>,\n",
       " <__main__.Card at 0x20e0e1bbf60>,\n",
       " <__main__.Card at 0x20e0e1bbeb8>,\n",
       " <__main__.Card at 0x20e0e1bbe80>,\n",
       " <__main__.Card at 0x20e0e1bb0f0>,\n",
       " <__main__.Card at 0x20e0e1bb748>,\n",
       " <__main__.Card at 0x20e0e1bb978>,\n",
       " <__main__.Card at 0x20e0e1bb438>,\n",
       " <__main__.Card at 0x20e0e1bbac8>]"
      ]
     },
     "execution_count": 349,
     "metadata": {},
     "output_type": "execute_result"
    }
   ],
   "source": [
    "cards = [Card(value, color) for value in [1,1,2,2,3] for color in [\"R\",\"B\",\"Y\"]]\n",
    "deck = Deck(cards = cards)\n",
    "deck.shuffle()\n",
    "deck.cards"
   ]
  },
  {
   "cell_type": "code",
   "execution_count": 339,
   "metadata": {},
   "outputs": [
    {
     "data": {
      "text/plain": [
       "[<__main__.Card at 0x20e0e17fc18>,\n",
       " <__main__.Card at 0x20e0e17f860>,\n",
       " <__main__.Card at 0x20e0e17fba8>]"
      ]
     },
     "execution_count": 339,
     "metadata": {},
     "output_type": "execute_result"
    }
   ],
   "source": [
    "seen = deck.cards[0:3]\n",
    "seen"
   ]
  },
  {
   "cell_type": "code",
   "execution_count": 351,
   "metadata": {},
   "outputs": [
    {
     "data": {
      "text/plain": [
       "[<__main__.Card at 0x20e0e1bb588>,\n",
       " <__main__.Card at 0x20e0e1bbb00>,\n",
       " <__main__.Card at 0x20e0e1bbe80>,\n",
       " <__main__.Card at 0x20e0e1bb748>,\n",
       " <__main__.Card at 0x20e0e1bb438>,\n",
       " <__main__.Card at 0x20e0e1bbac8>]"
      ]
     },
     "execution_count": 351,
     "metadata": {},
     "output_type": "execute_result"
    }
   ],
   "source": [
    "[x for x in deck.cards if x.value == 1]"
   ]
  },
  {
   "cell_type": "code",
   "execution_count": 358,
   "metadata": {},
   "outputs": [
    {
     "ename": "TypeError",
     "evalue": "'str' object is not callable",
     "output_type": "error",
     "traceback": [
      "\u001b[1;31m---------------------------------------------------------------------------\u001b[0m",
      "\u001b[1;31mTypeError\u001b[0m                                 Traceback (most recent call last)",
      "\u001b[1;32m<ipython-input-358-5679f015a4ab>\u001b[0m in \u001b[0;36m<module>\u001b[1;34m()\u001b[0m\n\u001b[1;32m----> 1\u001b[1;33m \u001b[1;33m[\u001b[0m\u001b[1;34m\"%d%s\"\u001b[0m\u001b[1;33m(\u001b[0m\u001b[1;36m1\u001b[0m\u001b[1;33m,\u001b[0m\u001b[0mc\u001b[0m\u001b[1;33m)\u001b[0m \u001b[1;32mfor\u001b[0m \u001b[0mc\u001b[0m \u001b[1;32min\u001b[0m \u001b[1;33m[\u001b[0m\u001b[1;34m\"A\"\u001b[0m\u001b[1;33m]\u001b[0m\u001b[1;33m]\u001b[0m\u001b[1;33m\u001b[0m\u001b[0m\n\u001b[0m",
      "\u001b[1;32m<ipython-input-358-5679f015a4ab>\u001b[0m in \u001b[0;36m<listcomp>\u001b[1;34m(.0)\u001b[0m\n\u001b[1;32m----> 1\u001b[1;33m \u001b[1;33m[\u001b[0m\u001b[1;34m\"%d%s\"\u001b[0m\u001b[1;33m(\u001b[0m\u001b[1;36m1\u001b[0m\u001b[1;33m,\u001b[0m\u001b[0mc\u001b[0m\u001b[1;33m)\u001b[0m \u001b[1;32mfor\u001b[0m \u001b[0mc\u001b[0m \u001b[1;32min\u001b[0m \u001b[1;33m[\u001b[0m\u001b[1;34m\"A\"\u001b[0m\u001b[1;33m]\u001b[0m\u001b[1;33m]\u001b[0m\u001b[1;33m\u001b[0m\u001b[0m\n\u001b[0m",
      "\u001b[1;31mTypeError\u001b[0m: 'str' object is not callable"
     ]
    }
   ],
   "source": []
  }
 ],
 "metadata": {
  "kernelspec": {
   "display_name": "Python 3",
   "language": "python",
   "name": "python3"
  },
  "language_info": {
   "codemirror_mode": {
    "name": "ipython",
    "version": 3
   },
   "file_extension": ".py",
   "mimetype": "text/x-python",
   "name": "python",
   "nbconvert_exporter": "python",
   "pygments_lexer": "ipython3",
   "version": "3.6.3"
  }
 },
 "nbformat": 4,
 "nbformat_minor": 2
}
