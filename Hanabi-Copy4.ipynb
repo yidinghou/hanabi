{
 "cells": [
  {
   "cell_type": "markdown",
   "metadata": {},
   "source": [
    "## NN Structure\n",
    "\n",
    "output policy will have a dimension of the sum of discard choices, play choices, and clue choices. clue choices has a cardinality of product of num players, num colors, and num numbers. In this case it will be 4+4+3*3*1= 17 element array\n",
    "\n",
    "Input layer will have a dimension of the sum of opp_hand, board, discard, self_clue, and opp_clue.\n",
    "opp_hand will be dummy encoding of the number of cards in the deck. board is the number of playable cards. self_clue is product of num of cards_in_hand, num of colors, and num of value, so 4*3*3 = 36. Same with opp_clue\n",
    "\n",
    "Input layer = 15+9+15+36+36 = 111 node\n",
    "also add in num bombs, number of cards left, number of clues, 4, 15-4*2=7, 8\n",
    "\n",
    "total input layer = 111+4+7+8 = 130\n"
   ]
  },
  {
   "cell_type": "code",
   "execution_count": 1,
   "metadata": {},
   "outputs": [
    {
     "name": "stderr",
     "output_type": "stream",
     "text": [
      "C:\\Users\\yidin\\AppData\\Local\\Continuum\\anaconda3\\lib\\site-packages\\h5py\\__init__.py:34: FutureWarning: Conversion of the second argument of issubdtype from `float` to `np.floating` is deprecated. In future, it will be treated as `np.float64 == np.dtype(float).type`.\n",
      "  from ._conv import register_converters as _register_converters\n",
      "Using TensorFlow backend.\n"
     ]
    }
   ],
   "source": [
    "import random\n",
    "import numpy as np\n",
    "from memory import Memory\n",
    "from Game import *\n",
    "import pickle\n",
    "from Model import *\n",
    "import config\n",
    "import pandas as pd\n",
    "from collections import Counter\n",
    "from Player import *\n"
   ]
  },
  {
   "cell_type": "code",
   "execution_count": 36,
   "metadata": {
    "collapsed": true
   },
   "outputs": [],
   "source": [
    "def create_GS(deck, p1_hand, p2_hand, discard, played):\n",
    "    p1 = Player(\"P1\", deck.copy(), nn_model())\n",
    "    p2 = Player(\"P2\", deck.copy(), nn_model())\n",
    "\n",
    "    board = Board(deck.copy())\n",
    "\n",
    "    played_cards = []\n",
    "\n",
    "    for slot in played:\n",
    "        i = 1\n",
    "        num = played[slot]\n",
    "        while i <= num:\n",
    "            played_cards.append(str(i)+slot)\n",
    "            i+=1\n",
    "\n",
    "\n",
    "    for card in p1_hand:\n",
    "        p1.draw([deck.remove(card)])\n",
    "\n",
    "    for card in p2_hand:\n",
    "        p2.draw([deck.remove(card)])\n",
    "\n",
    "    for card in played_cards:\n",
    "        play = deck.remove(card)\n",
    "        board.play_card(play)\n",
    "    \n",
    "    for card in discard:\n",
    "        play = deck.remove(card)\n",
    "        board.discard(play)\n",
    "        \n",
    "    return(p1, p2, board)"
   ]
  },
  {
   "cell_type": "code",
   "execution_count": 37,
   "metadata": {
    "collapsed": true
   },
   "outputs": [],
   "source": [
    "scores = []\n",
    "colors = [\"B\",\"G\",\"R\",\"W\",\"Y\"]\n",
    "numbers = [1,1,1,2,2,3,3,4,4,5]\n",
    "\n",
    "cards = [Card(value, color) for color in colors for value in numbers]\n",
    "deck = Deck(cards = cards)\n",
    "\n",
    "p1_hand = [\"1B\",\"3W\",\"4Y\", \"3Y\"]\n",
    "p2_hand = [\"1B\",\"2B\",\"4Y\", \"3Y\"]\n",
    "\n",
    "discard = [\"5Y\",\"2Y\"]\n",
    "played ={\n",
    "    \"B\":2,\n",
    "    \"G\":1,\n",
    "    \"R\":0,\n",
    "    \"W\":0,\n",
    "    \"Y\":1\n",
    "        }\n",
    "\n",
    "p1,p2,board = create_GS(deck, p1_hand, p2_hand, discard, played)\n"
   ]
  },
  {
   "cell_type": "code",
   "execution_count": 42,
   "metadata": {
    "scrolled": true
   },
   "outputs": [],
   "source": [
    "nn_inputs = p1.nn_input(p2,board)"
   ]
  },
  {
   "cell_type": "code",
   "execution_count": 44,
   "metadata": {
    "scrolled": true
   },
   "outputs": [
    {
     "data": {
      "text/plain": [
       "[array([[[0.04081633, 0.06122449, 0.06122449, 0.06122449, 0.06122449],\n",
       "         [0.04081633, 0.04081633, 0.04081633, 0.04081633, 0.04081633],\n",
       "         [0.04081633, 0.04081633, 0.04081633, 0.04081633, 0.04081633],\n",
       "         [0.04081633, 0.04081633, 0.04081633, 0.04081633, 0.04081633],\n",
       "         [0.02040816, 0.02040816, 0.02040816, 0.02040816, 0.02040816]],\n",
       " \n",
       "        [[1.        , 1.        , 0.        , 0.        , 1.        ],\n",
       "         [1.        , 0.        , 0.        , 0.        , 0.        ],\n",
       "         [0.        , 0.        , 0.        , 0.        , 0.        ],\n",
       "         [0.        , 0.        , 0.        , 0.        , 0.        ],\n",
       "         [0.        , 0.        , 0.        , 0.        , 0.        ]],\n",
       " \n",
       "        [[0.        , 0.        , 1.        , 1.        , 0.        ],\n",
       "         [0.        , 1.        , 0.        , 0.        , 1.        ],\n",
       "         [1.        , 0.        , 0.        , 0.        , 0.        ],\n",
       "         [0.        , 0.        , 0.        , 0.        , 0.        ],\n",
       "         [0.        , 0.        , 0.        , 0.        , 0.        ]]]),\n",
       " array([[[0.04166667, 0.0625    , 0.0625    , 0.0625    , 0.0625    ],\n",
       "         [0.04166667, 0.04166667, 0.04166667, 0.04166667, 0.04166667],\n",
       "         [0.04166667, 0.04166667, 0.04166667, 0.02083333, 0.04166667],\n",
       "         [0.04166667, 0.04166667, 0.04166667, 0.04166667, 0.04166667],\n",
       "         [0.02083333, 0.02083333, 0.02083333, 0.02083333, 0.02083333]],\n",
       " \n",
       "        [[1.        , 1.        , 0.        , 0.        , 1.        ],\n",
       "         [1.        , 0.        , 0.        , 0.        , 0.        ],\n",
       "         [0.        , 0.        , 0.        , 0.        , 0.        ],\n",
       "         [0.        , 0.        , 0.        , 0.        , 0.        ],\n",
       "         [0.        , 0.        , 0.        , 0.        , 0.        ]],\n",
       " \n",
       "        [[0.        , 0.        , 1.        , 1.        , 0.        ],\n",
       "         [0.        , 1.        , 0.        , 0.        , 1.        ],\n",
       "         [1.        , 0.        , 0.        , 0.        , 0.        ],\n",
       "         [0.        , 0.        , 0.        , 0.        , 0.        ],\n",
       "         [0.        , 0.        , 0.        , 0.        , 0.        ]]]),\n",
       " array([[[0.04255319, 0.06382979, 0.06382979, 0.06382979, 0.06382979],\n",
       "         [0.04255319, 0.04255319, 0.04255319, 0.04255319, 0.04255319],\n",
       "         [0.04255319, 0.04255319, 0.04255319, 0.0212766 , 0.04255319],\n",
       "         [0.04255319, 0.04255319, 0.04255319, 0.04255319, 0.0212766 ],\n",
       "         [0.0212766 , 0.0212766 , 0.0212766 , 0.0212766 , 0.0212766 ]],\n",
       " \n",
       "        [[1.        , 1.        , 0.        , 0.        , 1.        ],\n",
       "         [1.        , 0.        , 0.        , 0.        , 0.        ],\n",
       "         [0.        , 0.        , 0.        , 0.        , 0.        ],\n",
       "         [0.        , 0.        , 0.        , 0.        , 0.        ],\n",
       "         [0.        , 0.        , 0.        , 0.        , 0.        ]],\n",
       " \n",
       "        [[0.        , 0.        , 1.        , 1.        , 0.        ],\n",
       "         [0.        , 1.        , 0.        , 0.        , 1.        ],\n",
       "         [1.        , 0.        , 0.        , 0.        , 0.        ],\n",
       "         [0.        , 0.        , 0.        , 0.        , 0.        ],\n",
       "         [0.        , 0.        , 0.        , 0.        , 0.        ]]]),\n",
       " array([[[0.04347826, 0.06521739, 0.06521739, 0.06521739, 0.06521739],\n",
       "         [0.04347826, 0.04347826, 0.04347826, 0.04347826, 0.04347826],\n",
       "         [0.04347826, 0.04347826, 0.04347826, 0.02173913, 0.02173913],\n",
       "         [0.04347826, 0.04347826, 0.04347826, 0.04347826, 0.02173913],\n",
       "         [0.02173913, 0.02173913, 0.02173913, 0.02173913, 0.02173913]],\n",
       " \n",
       "        [[1.        , 1.        , 0.        , 0.        , 1.        ],\n",
       "         [1.        , 0.        , 0.        , 0.        , 0.        ],\n",
       "         [0.        , 0.        , 0.        , 0.        , 0.        ],\n",
       "         [0.        , 0.        , 0.        , 0.        , 0.        ],\n",
       "         [0.        , 0.        , 0.        , 0.        , 0.        ]],\n",
       " \n",
       "        [[0.        , 0.        , 1.        , 1.        , 0.        ],\n",
       "         [0.        , 1.        , 0.        , 0.        , 1.        ],\n",
       "         [1.        , 0.        , 0.        , 0.        , 0.        ],\n",
       "         [0.        , 0.        , 0.        , 0.        , 0.        ],\n",
       "         [0.        , 0.        , 0.        , 0.        , 0.        ]]])]"
      ]
     },
     "execution_count": 44,
     "metadata": {},
     "output_type": "execute_result"
    }
   ],
   "source": [
    "pub = nn_inputs[\"public\"]\n",
    "pub"
   ]
  },
  {
   "cell_type": "code",
   "execution_count": 84,
   "metadata": {
    "scrolled": true
   },
   "outputs": [
    {
     "data": {
      "text/plain": [
       "[array([[[0.04081633, 0.06122449, 0.06122449, 0.06122449, 0.06122449],\n",
       "         [0.04081633, 0.04081633, 0.04081633, 0.04081633, 0.04081633],\n",
       "         [0.04081633, 0.04081633, 0.04081633, 0.04081633, 0.04081633],\n",
       "         [0.04081633, 0.04081633, 0.04081633, 0.04081633, 0.04081633],\n",
       "         [0.02040816, 0.02040816, 0.02040816, 0.02040816, 0.02040816]],\n",
       " \n",
       "        [[1.        , 1.        , 0.        , 0.        , 1.        ],\n",
       "         [1.        , 0.        , 0.        , 0.        , 0.        ],\n",
       "         [0.        , 0.        , 0.        , 0.        , 0.        ],\n",
       "         [0.        , 0.        , 0.        , 0.        , 0.        ],\n",
       "         [0.        , 0.        , 0.        , 0.        , 0.        ]],\n",
       " \n",
       "        [[0.        , 0.        , 1.        , 1.        , 0.        ],\n",
       "         [0.        , 1.        , 0.        , 0.        , 1.        ],\n",
       "         [1.        , 0.        , 0.        , 0.        , 0.        ],\n",
       "         [0.        , 0.        , 0.        , 0.        , 0.        ],\n",
       "         [0.        , 0.        , 0.        , 0.        , 0.        ]]]),\n",
       " array([[[0.04166667, 0.0625    , 0.0625    , 0.0625    , 0.0625    ],\n",
       "         [0.04166667, 0.04166667, 0.04166667, 0.04166667, 0.04166667],\n",
       "         [0.04166667, 0.04166667, 0.04166667, 0.02083333, 0.04166667],\n",
       "         [0.04166667, 0.04166667, 0.04166667, 0.04166667, 0.04166667],\n",
       "         [0.02083333, 0.02083333, 0.02083333, 0.02083333, 0.02083333]],\n",
       " \n",
       "        [[1.        , 1.        , 0.        , 0.        , 1.        ],\n",
       "         [1.        , 0.        , 0.        , 0.        , 0.        ],\n",
       "         [0.        , 0.        , 0.        , 0.        , 0.        ],\n",
       "         [0.        , 0.        , 0.        , 0.        , 0.        ],\n",
       "         [0.        , 0.        , 0.        , 0.        , 0.        ]],\n",
       " \n",
       "        [[0.        , 0.        , 1.        , 1.        , 0.        ],\n",
       "         [0.        , 1.        , 0.        , 0.        , 1.        ],\n",
       "         [1.        , 0.        , 0.        , 0.        , 0.        ],\n",
       "         [0.        , 0.        , 0.        , 0.        , 0.        ],\n",
       "         [0.        , 0.        , 0.        , 0.        , 0.        ]]]),\n",
       " array([[[0.04255319, 0.06382979, 0.06382979, 0.06382979, 0.06382979],\n",
       "         [0.04255319, 0.04255319, 0.04255319, 0.04255319, 0.04255319],\n",
       "         [0.04255319, 0.04255319, 0.04255319, 0.0212766 , 0.04255319],\n",
       "         [0.04255319, 0.04255319, 0.04255319, 0.04255319, 0.0212766 ],\n",
       "         [0.0212766 , 0.0212766 , 0.0212766 , 0.0212766 , 0.0212766 ]],\n",
       " \n",
       "        [[1.        , 1.        , 0.        , 0.        , 1.        ],\n",
       "         [1.        , 0.        , 0.        , 0.        , 0.        ],\n",
       "         [0.        , 0.        , 0.        , 0.        , 0.        ],\n",
       "         [0.        , 0.        , 0.        , 0.        , 0.        ],\n",
       "         [0.        , 0.        , 0.        , 0.        , 0.        ]],\n",
       " \n",
       "        [[0.        , 0.        , 1.        , 1.        , 0.        ],\n",
       "         [0.        , 1.        , 0.        , 0.        , 1.        ],\n",
       "         [1.        , 0.        , 0.        , 0.        , 0.        ],\n",
       "         [0.        , 0.        , 0.        , 0.        , 0.        ],\n",
       "         [0.        , 0.        , 0.        , 0.        , 0.        ]]]),\n",
       " array([[[0.04347826, 0.06521739, 0.06521739, 0.06521739, 0.06521739],\n",
       "         [0.04347826, 0.04347826, 0.04347826, 0.04347826, 0.04347826],\n",
       "         [0.04347826, 0.04347826, 0.04347826, 0.02173913, 0.02173913],\n",
       "         [0.04347826, 0.04347826, 0.04347826, 0.04347826, 0.02173913],\n",
       "         [0.02173913, 0.02173913, 0.02173913, 0.02173913, 0.02173913]],\n",
       " \n",
       "        [[1.        , 1.        , 0.        , 0.        , 1.        ],\n",
       "         [1.        , 0.        , 0.        , 0.        , 0.        ],\n",
       "         [0.        , 0.        , 0.        , 0.        , 0.        ],\n",
       "         [0.        , 0.        , 0.        , 0.        , 0.        ],\n",
       "         [0.        , 0.        , 0.        , 0.        , 0.        ]],\n",
       " \n",
       "        [[0.        , 0.        , 1.        , 1.        , 0.        ],\n",
       "         [0.        , 1.        , 0.        , 0.        , 1.        ],\n",
       "         [1.        , 0.        , 0.        , 0.        , 0.        ],\n",
       "         [0.        , 0.        , 0.        , 0.        , 0.        ],\n",
       "         [0.        , 0.        , 0.        , 0.        , 0.        ]]])]"
      ]
     },
     "execution_count": 84,
     "metadata": {},
     "output_type": "execute_result"
    }
   ],
   "source": [
    "import numpy as np\n",
    "np.random.seed(1337)\n",
    "from keras.layers import Input, Dense, Conv1D, Conv2D, Flatten, concatenate\n",
    "from keras.models import Model\n",
    "\n",
    "# This returns a tensor\n",
    "input1 = Input(shape=(3,5,5))\n",
    "input2 = Input(shape=(3,5,5))\n",
    "input3 = Input(shape=(3,5,5))\n",
    "input4 = Input(shape=(3,5,5))\n",
    "\n",
    "# a layer instance is callable on a tensor, and returns a tensor\n",
    "conv = Conv2D(1, kernel_size = (3,5), activation='linear')\n",
    "card1 = conv(input1)\n",
    "card2 = conv(input2)\n",
    "card3 = conv(input3)\n",
    "card4 = conv(input4)\n",
    "\n",
    "merged = concatenate([card1, card2, card3, card4], axis=-1)\n",
    "value = Dense(1, activation = 'linear')(merged)\n",
    "# This creates a model that includes\n",
    "# the Input layer and three Dense layers\n",
    "\n",
    "model = Model(inputs=[input1, input2, input3, input4], outputs= value)\n",
    "model.compile(optimizer='rmsprop',\n",
    "              loss='binary_crossentropy',\n",
    "              metrics=['accuracy'])\n",
    "\n",
    "data = pub\n",
    "data"
   ]
  },
  {
   "cell_type": "code",
   "execution_count": 80,
   "metadata": {
    "collapsed": true
   },
   "outputs": [
    {
     "ename": "AttributeError",
     "evalue": "Layer conv2d_18 has multiple inbound nodes, hence the notion of \"layer output\" is ill-defined. Use `get_output_at(node_index)` instead.",
     "output_type": "error",
     "traceback": [
      "\u001b[1;31m---------------------------------------------------------------------------\u001b[0m",
      "\u001b[1;31mAttributeError\u001b[0m                            Traceback (most recent call last)",
      "\u001b[1;32m<ipython-input-80-60c9e338bb9d>\u001b[0m in \u001b[0;36m<module>\u001b[1;34m()\u001b[0m\n\u001b[0;32m      2\u001b[0m \u001b[1;33m\u001b[0m\u001b[0m\n\u001b[0;32m      3\u001b[0m \u001b[0minp\u001b[0m \u001b[1;33m=\u001b[0m \u001b[0mmodel\u001b[0m\u001b[1;33m.\u001b[0m\u001b[0minput\u001b[0m                                           \u001b[1;31m# input placeholder\u001b[0m\u001b[1;33m\u001b[0m\u001b[0m\n\u001b[1;32m----> 4\u001b[1;33m \u001b[0moutputs\u001b[0m \u001b[1;33m=\u001b[0m \u001b[1;33m[\u001b[0m\u001b[0mlayer\u001b[0m\u001b[1;33m.\u001b[0m\u001b[0moutput\u001b[0m \u001b[1;32mfor\u001b[0m \u001b[0mlayer\u001b[0m \u001b[1;32min\u001b[0m \u001b[0mmodel\u001b[0m\u001b[1;33m.\u001b[0m\u001b[0mlayers\u001b[0m\u001b[1;33m]\u001b[0m          \u001b[1;31m# all layer outputs\u001b[0m\u001b[1;33m\u001b[0m\u001b[0m\n\u001b[0m\u001b[0;32m      5\u001b[0m \u001b[0mfunctors\u001b[0m \u001b[1;33m=\u001b[0m \u001b[1;33m[\u001b[0m\u001b[0mK\u001b[0m\u001b[1;33m.\u001b[0m\u001b[0mfunction\u001b[0m\u001b[1;33m(\u001b[0m\u001b[1;33m[\u001b[0m\u001b[0minp\u001b[0m\u001b[1;33m,\u001b[0m \u001b[0mK\u001b[0m\u001b[1;33m.\u001b[0m\u001b[0mlearning_phase\u001b[0m\u001b[1;33m(\u001b[0m\u001b[1;33m)\u001b[0m\u001b[1;33m]\u001b[0m\u001b[1;33m,\u001b[0m \u001b[1;33m[\u001b[0m\u001b[0mout\u001b[0m\u001b[1;33m]\u001b[0m\u001b[1;33m)\u001b[0m \u001b[1;32mfor\u001b[0m \u001b[0mout\u001b[0m \u001b[1;32min\u001b[0m \u001b[0moutputs\u001b[0m\u001b[1;33m]\u001b[0m    \u001b[1;31m# evaluation functions\u001b[0m\u001b[1;33m\u001b[0m\u001b[0m\n\u001b[0;32m      6\u001b[0m \u001b[1;33m\u001b[0m\u001b[0m\n",
      "\u001b[1;32m<ipython-input-80-60c9e338bb9d>\u001b[0m in \u001b[0;36m<listcomp>\u001b[1;34m(.0)\u001b[0m\n\u001b[0;32m      2\u001b[0m \u001b[1;33m\u001b[0m\u001b[0m\n\u001b[0;32m      3\u001b[0m \u001b[0minp\u001b[0m \u001b[1;33m=\u001b[0m \u001b[0mmodel\u001b[0m\u001b[1;33m.\u001b[0m\u001b[0minput\u001b[0m                                           \u001b[1;31m# input placeholder\u001b[0m\u001b[1;33m\u001b[0m\u001b[0m\n\u001b[1;32m----> 4\u001b[1;33m \u001b[0moutputs\u001b[0m \u001b[1;33m=\u001b[0m \u001b[1;33m[\u001b[0m\u001b[0mlayer\u001b[0m\u001b[1;33m.\u001b[0m\u001b[0moutput\u001b[0m \u001b[1;32mfor\u001b[0m \u001b[0mlayer\u001b[0m \u001b[1;32min\u001b[0m \u001b[0mmodel\u001b[0m\u001b[1;33m.\u001b[0m\u001b[0mlayers\u001b[0m\u001b[1;33m]\u001b[0m          \u001b[1;31m# all layer outputs\u001b[0m\u001b[1;33m\u001b[0m\u001b[0m\n\u001b[0m\u001b[0;32m      5\u001b[0m \u001b[0mfunctors\u001b[0m \u001b[1;33m=\u001b[0m \u001b[1;33m[\u001b[0m\u001b[0mK\u001b[0m\u001b[1;33m.\u001b[0m\u001b[0mfunction\u001b[0m\u001b[1;33m(\u001b[0m\u001b[1;33m[\u001b[0m\u001b[0minp\u001b[0m\u001b[1;33m,\u001b[0m \u001b[0mK\u001b[0m\u001b[1;33m.\u001b[0m\u001b[0mlearning_phase\u001b[0m\u001b[1;33m(\u001b[0m\u001b[1;33m)\u001b[0m\u001b[1;33m]\u001b[0m\u001b[1;33m,\u001b[0m \u001b[1;33m[\u001b[0m\u001b[0mout\u001b[0m\u001b[1;33m]\u001b[0m\u001b[1;33m)\u001b[0m \u001b[1;32mfor\u001b[0m \u001b[0mout\u001b[0m \u001b[1;32min\u001b[0m \u001b[0moutputs\u001b[0m\u001b[1;33m]\u001b[0m    \u001b[1;31m# evaluation functions\u001b[0m\u001b[1;33m\u001b[0m\u001b[0m\n\u001b[0;32m      6\u001b[0m \u001b[1;33m\u001b[0m\u001b[0m\n",
      "\u001b[1;32m~\\AppData\\Local\\Continuum\\anaconda3\\lib\\site-packages\\keras\\engine\\topology.py\u001b[0m in \u001b[0;36moutput\u001b[1;34m(self)\u001b[0m\n\u001b[0;32m    954\u001b[0m         \u001b[1;32mif\u001b[0m \u001b[0mlen\u001b[0m\u001b[1;33m(\u001b[0m\u001b[0mself\u001b[0m\u001b[1;33m.\u001b[0m\u001b[0minbound_nodes\u001b[0m\u001b[1;33m)\u001b[0m \u001b[1;33m>\u001b[0m \u001b[1;36m1\u001b[0m\u001b[1;33m:\u001b[0m\u001b[1;33m\u001b[0m\u001b[0m\n\u001b[0;32m    955\u001b[0m             raise AttributeError('Layer ' + self.name +\n\u001b[1;32m--> 956\u001b[1;33m                                  \u001b[1;34m' has multiple inbound nodes, '\u001b[0m\u001b[1;33m\u001b[0m\u001b[0m\n\u001b[0m\u001b[0;32m    957\u001b[0m                                  \u001b[1;34m'hence the notion of \"layer output\" '\u001b[0m\u001b[1;33m\u001b[0m\u001b[0m\n\u001b[0;32m    958\u001b[0m                                  \u001b[1;34m'is ill-defined. '\u001b[0m\u001b[1;33m\u001b[0m\u001b[0m\n",
      "\u001b[1;31mAttributeError\u001b[0m: Layer conv2d_18 has multiple inbound nodes, hence the notion of \"layer output\" is ill-defined. Use `get_output_at(node_index)` instead."
     ]
    }
   ],
   "source": [
    "from keras import backend as K\n",
    "\n",
    "inp = model.input                                           # input placeholder\n",
    "outputs = [layer.output for layer in model.layers]          # all layer outputs\n",
    "functors = [K.function([inp, K.learning_phase()], [out]) for out in outputs]    # evaluation functions\n",
    "\n",
    "# Testing\n",
    "test = [data[0][np.newaxis],data[1][np.newaxis]]\n",
    "layer_outs = [func([test, 1.]) for func in functors]\n",
    "\n",
    "for l in layer_outs:\n",
    "    print(l)\n",
    "    \n",
    "weights = model.layers[1].get_weights()[0]\n",
    "print(\"\\n Weights: \\n\",weights)"
   ]
  },
  {
   "cell_type": "code",
   "execution_count": 85,
   "metadata": {},
   "outputs": [
    {
     "data": {
      "text/plain": [
       "array([[[[0.600511]]]], dtype=float32)"
      ]
     },
     "execution_count": 85,
     "metadata": {},
     "output_type": "execute_result"
    }
   ],
   "source": [
    "model.predict([data[0][np.newaxis],data[1][np.newaxis],data[2][np.newaxis],data[3][np.newaxis]])"
   ]
  }
 ],
 "metadata": {
  "kernelspec": {
   "display_name": "Python 3",
   "language": "python",
   "name": "python3"
  },
  "language_info": {
   "codemirror_mode": {
    "name": "ipython",
    "version": 3
   },
   "file_extension": ".py",
   "mimetype": "text/x-python",
   "name": "python",
   "nbconvert_exporter": "python",
   "pygments_lexer": "ipython3",
   "version": "3.6.3"
  }
 },
 "nbformat": 4,
 "nbformat_minor": 2
}
